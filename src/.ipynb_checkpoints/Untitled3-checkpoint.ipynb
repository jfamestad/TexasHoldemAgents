{
 "cells": [
  {
   "cell_type": "code",
   "execution_count": 1,
   "id": "4b549f84",
   "metadata": {},
   "outputs": [],
   "source": [
    "from model.table import Table\n",
    "\n",
    "from model.holdem_round import HoldemRound\n",
    "from players.floyd_folds import Floyd\n",
    "from players.callie_calls import Callie\n",
    "from players.robby_random import Robby\n",
    "from players.ricky_raise import Ricky"
   ]
  },
  {
   "cell_type": "code",
   "execution_count": 2,
   "id": "6c7285b2",
   "metadata": {},
   "outputs": [],
   "source": [
    "players = [\n",
    "    Ricky(\"Josh\", 100),\n",
    "    Robby(\"Cody\", 100),\n",
    "    Ricky(\"Beezie\", 100),\n",
    "    Callie(\"Madi\", 100),\n",
    "    Floyd(\"Alice\", 100),\n",
    "    Robby(\"Michelle\", 100),\n",
    "    Callie(\"Sophia\", 100),\n",
    "    Floyd(\"Bob\", 100)\n",
    "]"
   ]
  },
  {
   "cell_type": "code",
   "execution_count": 11,
   "id": "d2d90312",
   "metadata": {},
   "outputs": [],
   "source": [
    "import math\n",
    "from numpy.random import choice\n",
    "\n",
    "from model.holdem_round import HoldemRound\n",
    "\n",
    "\n",
    "class Tournament:\n",
    "    def __init__(self, players, players_per_table=10):\n",
    "        self.players = players\n",
    "        self.players_per_table = players_per_table\n",
    "\n",
    "    @property\n",
    "    def num_players(self, big_blind=2):\n",
    "        return len(self.players)\n",
    "\n",
    "    def players_still_in(self, big_blind, table_assignment=None):\n",
    "        players = [player for player in self.players if not player.folded]\n",
    "        return [player for player in players if player.bankroll >= big_blind]\n",
    "\n",
    "#     def assign_players_to_tables(self):\n",
    "#         # assigns random table assignments\n",
    "#         \"\"\"\n",
    "#         [\n",
    "#             [players at table 1],\n",
    "#             ...,\n",
    "#             [players at table n]\n",
    "#         ]\n",
    "#         :return:\n",
    "#         \"\"\"\n",
    "#         self.table_count = math.ceil(self.num_players / self.players_per_table)\n",
    "#         self.table_assignments = []\n",
    "#         for i in range(self.table_count):\n",
    "#             self.table_assignments.append(choice(self.players, max(self.players_per_table, len(self.players))))\n",
    "\n",
    "#         return self.table_assignments\n",
    "\n",
    "\n",
    "#     def setup(self):\n",
    "#         self.num_tables = math.ceil(self.num_players / self.players_per_table)\n",
    "#         self.assign_players_to_tables()\n",
    "#         self.tables = []\n",
    "\n",
    "#     def do_round(self):\n",
    "#         for i, table_assignment in enumerate(self.table_assignments):\n",
    "#             if i < len(self.tables):\n",
    "#                 players = self.players_still_in(self.tables[i].big_blind, table_assignment)\n",
    "#                 self.tables[i].next_round()\n",
    "#                 self.players, self.tables[i] = HoldemRound(\n",
    "#                     players=players,\n",
    "#                     table=self.tables[i]\n",
    "#                 ).play()\n",
    "#             else:\n",
    "#                 blind = 1\n",
    "#                 players = self.players_still_in(2, table_assignment)\n",
    "#                 self.players, table = HoldemRound(\n",
    "#                     players=players,\n",
    "#                     blind=blind\n",
    "#                 ).play()\n",
    "#                 self.tables.append(table)\n",
    "\n",
    "    def do_round(self):\n",
    "        players = self.players_still_in(2, table_assignment)\n",
    "        self.players, self.tables[i] = HoldemRound(\n",
    "                                                players=players,\n",
    "                                                table=self.tables[i]\n",
    "                                            ).play()\n",
    "        \n",
    "\n",
    "    def play(self):\n",
    "        # Play rounds until only one player remains\n",
    "        self.do_round()\n",
    "        # players = [player for player in self.players if player.bankroll > self.tables[0].big_blind] # blinds will all move together\n",
    "\n",
    "\n"
   ]
  },
  {
   "cell_type": "code",
   "execution_count": 12,
   "id": "110738c8",
   "metadata": {},
   "outputs": [],
   "source": [
    "tournament = Tournament(players, 10)"
   ]
  },
  {
   "cell_type": "code",
   "execution_count": 15,
   "id": "d95b6b97",
   "metadata": {},
   "outputs": [],
   "source": [
    "# tournament.setup()"
   ]
  },
  {
   "cell_type": "code",
   "execution_count": 16,
   "id": "7fde29b1",
   "metadata": {},
   "outputs": [
    {
     "ename": "NameError",
     "evalue": "name 'table_assignment' is not defined",
     "output_type": "error",
     "traceback": [
      "\u001b[0;31m---------------------------------------------------------------------------\u001b[0m",
      "\u001b[0;31mNameError\u001b[0m                                 Traceback (most recent call last)",
      "\u001b[0;32m/var/folders/jq/w80pdyz11zbbhbvz7p8795gh0000gn/T/ipykernel_24950/415978965.py\u001b[0m in \u001b[0;36m<module>\u001b[0;34m\u001b[0m\n\u001b[0;32m----> 1\u001b[0;31m \u001b[0mtournament\u001b[0m\u001b[0;34m.\u001b[0m\u001b[0mdo_round\u001b[0m\u001b[0;34m(\u001b[0m\u001b[0;34m)\u001b[0m\u001b[0;34m\u001b[0m\u001b[0;34m\u001b[0m\u001b[0m\n\u001b[0m",
      "\u001b[0;32m/var/folders/jq/w80pdyz11zbbhbvz7p8795gh0000gn/T/ipykernel_24950/3898869057.py\u001b[0m in \u001b[0;36mdo_round\u001b[0;34m(self)\u001b[0m\n\u001b[1;32m     60\u001b[0m \u001b[0;34m\u001b[0m\u001b[0m\n\u001b[1;32m     61\u001b[0m     \u001b[0;32mdef\u001b[0m \u001b[0mdo_round\u001b[0m\u001b[0;34m(\u001b[0m\u001b[0mself\u001b[0m\u001b[0;34m)\u001b[0m\u001b[0;34m:\u001b[0m\u001b[0;34m\u001b[0m\u001b[0;34m\u001b[0m\u001b[0m\n\u001b[0;32m---> 62\u001b[0;31m         \u001b[0mplayers\u001b[0m \u001b[0;34m=\u001b[0m \u001b[0mself\u001b[0m\u001b[0;34m.\u001b[0m\u001b[0mplayers_still_in\u001b[0m\u001b[0;34m(\u001b[0m\u001b[0;36m2\u001b[0m\u001b[0;34m,\u001b[0m \u001b[0mtable_assignment\u001b[0m\u001b[0;34m)\u001b[0m\u001b[0;34m\u001b[0m\u001b[0;34m\u001b[0m\u001b[0m\n\u001b[0m\u001b[1;32m     63\u001b[0m         self.players, self.tables[i] = HoldemRound(\n\u001b[1;32m     64\u001b[0m                                                 \u001b[0mplayers\u001b[0m\u001b[0;34m=\u001b[0m\u001b[0mplayers\u001b[0m\u001b[0;34m,\u001b[0m\u001b[0;34m\u001b[0m\u001b[0;34m\u001b[0m\u001b[0m\n",
      "\u001b[0;31mNameError\u001b[0m: name 'table_assignment' is not defined"
     ]
    }
   ],
   "source": [
    "tournament.do_round()"
   ]
  },
  {
   "cell_type": "code",
   "execution_count": null,
   "id": "a3101d95",
   "metadata": {},
   "outputs": [],
   "source": []
  }
 ],
 "metadata": {
  "kernelspec": {
   "display_name": "Python 3 (ipykernel)",
   "language": "python",
   "name": "python3"
  },
  "language_info": {
   "codemirror_mode": {
    "name": "ipython",
    "version": 3
   },
   "file_extension": ".py",
   "mimetype": "text/x-python",
   "name": "python",
   "nbconvert_exporter": "python",
   "pygments_lexer": "ipython3",
   "version": "3.9.16"
  }
 },
 "nbformat": 4,
 "nbformat_minor": 5
}

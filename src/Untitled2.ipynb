{
 "cells": [
  {
   "cell_type": "code",
   "execution_count": 3,
   "id": "1a0b9bae",
   "metadata": {},
   "outputs": [],
   "source": [
    "import itertools\n",
    "import functools\n",
    "from numpy.random import choice\n",
    "import math"
   ]
  },
  {
   "cell_type": "code",
   "execution_count": 14,
   "id": "1a1c66c3",
   "metadata": {},
   "outputs": [
    {
     "data": {
      "text/plain": [
       "[array(['liza', 'alice', 'linda', 'harry', 'alice', 'tom', 'dick', 'tom'],\n",
       "       dtype='<U5'),\n",
       " array(['alice', 'liza', 'luize', 'tom', 'liza', 'luize', 'tom', 'alice'],\n",
       "       dtype='<U5')]"
      ]
     },
     "execution_count": 14,
     "metadata": {},
     "output_type": "execute_result"
    }
   ],
   "source": [
    "def assign_tables(players, players_per_table):\n",
    "    table_count = math.ceil( len(players) / players_per_table )\n",
    "    tables = []\n",
    "    for i in range(table_count):\n",
    "        tables.append(choice(players, max(players_per_table, len(players))))\n",
    "        \n",
    "    return tables\n",
    "    \n",
    "players = [ 'tom', 'dick', 'harry', 'liza', 'luize', 'alice', 'bob' ,'linda' ]\n",
    "\n",
    "assign_tables(players, 4)"
   ]
  },
  {
   "cell_type": "code",
   "execution_count": null,
   "id": "43c211b2",
   "metadata": {},
   "outputs": [],
   "source": []
  },
  {
   "cell_type": "code",
   "execution_count": null,
   "id": "b6639a5e",
   "metadata": {},
   "outputs": [],
   "source": []
  }
 ],
 "metadata": {
  "kernelspec": {
   "display_name": "Python 3 (ipykernel)",
   "language": "python",
   "name": "python3"
  },
  "language_info": {
   "codemirror_mode": {
    "name": "ipython",
    "version": 3
   },
   "file_extension": ".py",
   "mimetype": "text/x-python",
   "name": "python",
   "nbconvert_exporter": "python",
   "pygments_lexer": "ipython3",
   "version": "3.9.16"
  }
 },
 "nbformat": 4,
 "nbformat_minor": 5
}

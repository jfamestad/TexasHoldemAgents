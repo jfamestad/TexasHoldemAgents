{
 "cells": [
  {
   "cell_type": "code",
   "execution_count": 1,
   "id": "f74c2457",
   "metadata": {},
   "outputs": [],
   "source": [
    "from model.table import Table\n",
    "\n",
    "from model.holdem_round import HoldemRound\n",
    "from players.floyd_folds import Floyd\n",
    "from players.callie_calls import Callie\n",
    "from players.robby_random import Robby\n",
    "from players.ricky_raise import Ricky"
   ]
  },
  {
   "cell_type": "code",
   "execution_count": 7,
   "id": "2b548ef7",
   "metadata": {},
   "outputs": [],
   "source": [
    "players = [\n",
    "    Ricky(\"Josh\", 100),\n",
    "    Robby(\"Cody\", 100),\n",
    "    Ricky(\"Beezie\", 100),\n",
    "    Callie(\"Madi\", 100),\n",
    "    Floyd(\"Alice\", 100),\n",
    "    Robby(\"Michelle\", 100),\n",
    "    Callie(\"Sophia\", 100),\n",
    "    Floyd(\"Bob\", 100)\n",
    "]"
   ]
  },
  {
   "cell_type": "code",
   "execution_count": 3,
   "id": "ac92f9a5",
   "metadata": {},
   "outputs": [
    {
     "name": "stdout",
     "output_type": "stream",
     "text": [
      "Collecting blinds\n",
      "Bom is placing big blind: 2\n",
      "Bom placed big blind: 98 left in bankroll\n",
      "Sophia is placing small blind: 1\n",
      "Sophia placed small blind: 99 left in bankroll\n",
      "delt Josh to Card(\"K\", \"Diamonds\")\n",
      "delt Cody to Card(\"4\", \"Spades\")\n",
      "delt Beezie to Card(\"4\", \"Hearts\")\n",
      "delt Madi to Card(\"J\", \"Clubs\")\n",
      "delt Alice to Card(\"7\", \"Diamonds\")\n",
      "delt Michelle to Card(\"J\", \"Spades\")\n",
      "delt Sophia to Card(\"Q\", \"Spades\")\n",
      "delt Bom to Card(\"10\", \"Clubs\")\n",
      "delt Josh to Card(\"5\", \"Spades\")\n",
      "delt Cody to Card(\"6\", \"Diamonds\")\n",
      "delt Beezie to Card(\"5\", \"Diamonds\")\n",
      "delt Madi to Card(\"3\", \"Clubs\")\n",
      "delt Alice to Card(\"9\", \"Spades\")\n",
      "delt Michelle to Card(\"5\", \"Hearts\")\n",
      "delt Sophia to Card(\"A\", \"Hearts\")\n",
      "delt Bom to Card(\"8\", \"Clubs\")\n",
      "Starting betting round\n",
      "The bet is 2 to Cody\n",
      "Play - Cody: FOLD\n",
      "Got action: Action(FOLD, None)\n",
      "handling action: Action(FOLD, None)\n",
      "Processing Action - Cody: FOLD\n",
      "Cody: 100\n",
      "Cody: FOLD\n",
      "Cody is folding: 100\n",
      "Cody folds\n",
      "The bet is 2 to Beezie\n",
      "Beezie has a max bet of 100\n",
      "Play - Beezie: RAISE\n",
      "Got action: Action(RAISE, 71)\n",
      "handling action: Action(RAISE, 71)\n",
      "Processing Action - Beezie: RAISE\n",
      "Beezie: 100\n",
      "Action amount: 71\n",
      "Money on table: 0\n",
      "Cash into the pot: 71\n",
      "Cash into pot: 71\n",
      "Beezie calling, raising, or matching by 71\n",
      "Beezie still has: 29 in their bankroll\n",
      "Beezie raises\n",
      "The bet is 71 to Madi\n",
      "Madi sees the bet is at: 71\n",
      "Madi has a max bet of 100\n",
      "Play - Madi: CALL\n",
      "Got action: Action(CALL, 71)\n",
      "handling action: Action(CALL, 71)\n",
      "Processing Action - Madi: CALL\n",
      "Madi: 100\n",
      "Action amount: 71\n",
      "Money on table: 0\n",
      "Cash into the pot: 71\n",
      "Cash into pot: 71\n",
      "Madi calling, raising, or matching by 71\n",
      "Madi still has: 29 in their bankroll\n",
      "The bet is 71 to Alice\n",
      "Play - Alice: FOLD\n",
      "Got action: Action(FOLD, None)\n",
      "handling action: Action(FOLD, None)\n",
      "Processing Action - Alice: FOLD\n",
      "Alice: 100\n",
      "Alice: FOLD\n",
      "Alice is folding: 100\n",
      "Alice folds\n",
      "The bet is 71 to Michelle\n",
      "Michelle wants to raise. Current Bet is 71, Michelle has 100\n",
      "Play - Michelle: RAISE\n",
      "Got action: Action(RAISE, 80)\n",
      "handling action: Action(RAISE, 80)\n",
      "Processing Action - Michelle: RAISE\n",
      "Michelle: 100\n",
      "Action amount: 80\n",
      "Money on table: 0\n",
      "Cash into the pot: 80\n",
      "Cash into pot: 80\n",
      "Michelle calling, raising, or matching by 80\n",
      "Michelle still has: 20 in their bankroll\n",
      "Michelle raises\n",
      "The bet is 80 to Sophia\n",
      "Sophia sees the bet is at: 80\n",
      "Sophia has a max bet of 100\n",
      "Play - Sophia: CALL\n",
      "Got action: Action(CALL, 80)\n",
      "handling action: Action(CALL, 80)\n",
      "Processing Action - Sophia: CALL\n",
      "Sophia: 99\n",
      "Action amount: 80\n",
      "Money on table: 1\n",
      "Cash into the pot: 79\n",
      "Cash into pot: 79\n",
      "Sophia calling, raising, or matching by 80\n",
      "Sophia still has: 20 in their bankroll\n",
      "The bet is 80 to Bom\n",
      "Play - Bom: FOLD\n",
      "Got action: Action(FOLD, None)\n",
      "handling action: Action(FOLD, None)\n",
      "Processing Action - Bom: FOLD\n",
      "Bom: 98\n",
      "Bom: FOLD\n",
      "Bom is folding: 98\n",
      "Bom folds\n",
      "The bet is 80 to Josh\n",
      "Josh has a max bet of 100\n",
      "Play - Josh: RAISE\n",
      "Got action: Action(RAISE, 99)\n",
      "handling action: Action(RAISE, 99)\n",
      "Processing Action - Josh: RAISE\n",
      "Josh: 100\n",
      "Action amount: 99\n",
      "Money on table: 0\n",
      "Cash into the pot: 99\n",
      "Cash into pot: 99\n",
      "Josh calling, raising, or matching by 99\n",
      "Josh still has: 1 in their bankroll\n",
      "Josh raises\n",
      "The bet is 99 to Beezie\n",
      "Play - Beezie: FOLD\n",
      "Got action: Action(FOLD, None)\n",
      "handling action: Action(FOLD, None)\n",
      "Processing Action - Beezie: FOLD\n",
      "Beezie: 29\n",
      "Beezie: FOLD\n",
      "Beezie is folding: 29\n",
      "Beezie folds\n",
      "The bet is 99 to Madi\n",
      "Madi sees the bet is at: 99\n",
      "Madi has a max bet of 100\n",
      "Play - Madi: CALL\n",
      "Got action: Action(CALL, 99)\n",
      "handling action: Action(CALL, 99)\n",
      "Processing Action - Madi: CALL\n",
      "Madi: 29\n",
      "Action amount: 99\n",
      "Money on table: 71\n",
      "Cash into the pot: 28\n",
      "Cash into pot: 28\n",
      "Madi calling, raising, or matching by 99\n",
      "Madi still has: 1 in their bankroll\n",
      "Madi calls, setting holdem_round.is_called = True\n",
      "Betting is called...settling up with  remaining players\n",
      "Players still in: ['Josh', 'Madi', 'Michelle', 'Sophia']\n",
      "Round is called. Match or Fold to Alice\n",
      "Round is called. Match or Fold to Michelle\n",
      "Called - Active Player: Michelle\n",
      "Michelle has a max bet of 100\n",
      "Play - Michelle: FOLD\n",
      "handling action: Action(FOLD, None)\n",
      "Processing Action - Michelle: FOLD\n",
      "Michelle: 20\n",
      "Michelle: FOLD\n",
      "Michelle is folding: 20\n",
      "Michelle folds\n",
      "Round is called. Match or Fold to Sophia\n",
      "Called - Active Player: Sophia\n",
      "Sophia sees the bet is at: 99\n",
      "Sophia has a max bet of 100\n",
      "Play - Sophia: CALL\n",
      "handling action: Action(CALL, 99)\n",
      "Processing Action - Sophia: CALL\n",
      "Sophia: 20\n",
      "Action amount: 99\n",
      "Money on table: 80\n",
      "Cash into the pot: 19\n",
      "Cash into pot: 19\n",
      "Sophia calling, raising, or matching by 99\n",
      "Sophia still has: 1 in their bankroll\n",
      "Sophia calls, setting holdem_round.is_called = True\n",
      "Round is called. Match or Fold to Bom\n",
      "Round is called. Match or Fold to Josh\n",
      "Called - Active Player: Josh\n",
      "Josh has a max bet of 100\n",
      "Play - Josh: MATCH\n",
      "handling action: Action(MATCH, 99)\n",
      "Processing Action - Josh: MATCH\n",
      "Josh: 1\n",
      "Action amount: 99\n",
      "Money on table: 99\n",
      "Cash into the pot: 0\n",
      "Cash into pot: 0\n",
      "Josh calling, raising, or matching by 99\n",
      "Josh still has: 1 in their bankroll\n",
      "Round is called. Match or Fold to Cody\n",
      "Round is called. Match or Fold to Beezie\n",
      "Betting round is complete\n",
      "Players still in: ['Josh', 'Madi', 'Sophia']\n",
      "Starting betting round\n",
      "The bet is 99 to Madi\n",
      "Madi sees the bet is at: 99\n",
      "Madi has a max bet of 100\n",
      "Play - Madi: CALL\n",
      "Got action: Action(CALL, 99)\n",
      "handling action: Action(CALL, 99)\n",
      "Processing Action - Madi: CALL\n",
      "Madi: 1\n",
      "Action amount: 99\n",
      "Money on table: 99\n",
      "Cash into the pot: 0\n",
      "Cash into pot: 0\n",
      "Madi calling, raising, or matching by 99\n",
      "Madi still has: 1 in their bankroll\n",
      "Madi calls, setting holdem_round.is_called = True\n",
      "Betting is called...settling up with  remaining players\n",
      "Players still in: ['Josh', 'Madi', 'Sophia']\n",
      "Round is called. Match or Fold to Alice\n",
      "Round is called. Match or Fold to Michelle\n",
      "Round is called. Match or Fold to Sophia\n",
      "Called - Active Player: Sophia\n",
      "Sophia sees the bet is at: 99\n",
      "Sophia has a max bet of 100\n",
      "Play - Sophia: CALL\n",
      "handling action: Action(CALL, 99)\n",
      "Processing Action - Sophia: CALL\n",
      "Sophia: 1\n",
      "Action amount: 99\n",
      "Money on table: 99\n",
      "Cash into the pot: 0\n",
      "Cash into pot: 0\n",
      "Sophia calling, raising, or matching by 99\n",
      "Sophia still has: 1 in their bankroll\n",
      "Sophia calls, setting holdem_round.is_called = True\n",
      "Round is called. Match or Fold to Bom\n",
      "Round is called. Match or Fold to Josh\n",
      "Called - Active Player: Josh\n",
      "Josh has a max bet of 100\n",
      "Play - Josh: MATCH\n",
      "handling action: Action(MATCH, 99)\n",
      "Processing Action - Josh: MATCH\n",
      "Josh: 1\n",
      "Action amount: 99\n",
      "Money on table: 99\n",
      "Cash into the pot: 0\n",
      "Cash into pot: 0\n",
      "Josh calling, raising, or matching by 99\n",
      "Josh still has: 1 in their bankroll\n",
      "Round is called. Match or Fold to Cody\n",
      "Round is called. Match or Fold to Beezie\n",
      "Betting round is complete\n",
      "Players still in: ['Josh', 'Madi', 'Sophia']\n",
      "Starting betting round\n",
      "The bet is 99 to Madi\n",
      "Madi sees the bet is at: 99\n",
      "Madi has a max bet of 100\n",
      "Play - Madi: CALL\n",
      "Got action: Action(CALL, 99)\n",
      "handling action: Action(CALL, 99)\n",
      "Processing Action - Madi: CALL\n",
      "Madi: 1\n",
      "Action amount: 99\n",
      "Money on table: 99\n",
      "Cash into the pot: 0\n",
      "Cash into pot: 0\n",
      "Madi calling, raising, or matching by 99\n",
      "Madi still has: 1 in their bankroll\n",
      "Madi calls, setting holdem_round.is_called = True\n",
      "Betting is called...settling up with  remaining players\n",
      "Players still in: ['Josh', 'Madi', 'Sophia']\n",
      "Round is called. Match or Fold to Alice\n",
      "Round is called. Match or Fold to Michelle\n",
      "Round is called. Match or Fold to Sophia\n",
      "Called - Active Player: Sophia\n",
      "Sophia sees the bet is at: 99\n",
      "Sophia has a max bet of 100\n",
      "Play - Sophia: CALL\n",
      "handling action: Action(CALL, 99)\n",
      "Processing Action - Sophia: CALL\n",
      "Sophia: 1\n",
      "Action amount: 99\n",
      "Money on table: 99\n",
      "Cash into the pot: 0\n",
      "Cash into pot: 0\n",
      "Sophia calling, raising, or matching by 99\n",
      "Sophia still has: 1 in their bankroll\n",
      "Sophia calls, setting holdem_round.is_called = True\n",
      "Round is called. Match or Fold to Bom\n",
      "Round is called. Match or Fold to Josh\n",
      "Called - Active Player: Josh\n",
      "Josh has a max bet of 100\n",
      "Play - Josh: MATCH\n",
      "handling action: Action(MATCH, 99)\n",
      "Processing Action - Josh: MATCH\n",
      "Josh: 1\n",
      "Action amount: 99\n",
      "Money on table: 99\n",
      "Cash into the pot: 0\n",
      "Cash into pot: 0\n",
      "Josh calling, raising, or matching by 99\n",
      "Josh still has: 1 in their bankroll\n",
      "Round is called. Match or Fold to Cody\n",
      "Round is called. Match or Fold to Beezie\n",
      "Betting round is complete\n",
      "Players still in: ['Josh', 'Madi', 'Sophia']\n",
      "Starting betting round\n",
      "The bet is 99 to Madi\n",
      "Madi sees the bet is at: 99\n",
      "Madi has a max bet of 100\n",
      "Play - Madi: CALL\n",
      "Got action: Action(CALL, 99)\n",
      "handling action: Action(CALL, 99)\n",
      "Processing Action - Madi: CALL\n",
      "Madi: 1\n",
      "Action amount: 99\n",
      "Money on table: 99\n",
      "Cash into the pot: 0\n",
      "Cash into pot: 0\n",
      "Madi calling, raising, or matching by 99\n",
      "Madi still has: 1 in their bankroll\n",
      "Madi calls, setting holdem_round.is_called = True\n",
      "Betting is called...settling up with  remaining players\n",
      "Players still in: ['Josh', 'Madi', 'Sophia']\n",
      "Round is called. Match or Fold to Alice\n",
      "Round is called. Match or Fold to Michelle\n",
      "Round is called. Match or Fold to Sophia\n",
      "Called - Active Player: Sophia\n",
      "Sophia sees the bet is at: 99\n",
      "Sophia has a max bet of 100\n",
      "Play - Sophia: CALL\n",
      "handling action: Action(CALL, 99)\n",
      "Processing Action - Sophia: CALL\n",
      "Sophia: 1\n",
      "Action amount: 99\n",
      "Money on table: 99\n",
      "Cash into the pot: 0\n",
      "Cash into pot: 0\n",
      "Sophia calling, raising, or matching by 99\n",
      "Sophia still has: 1 in their bankroll\n",
      "Sophia calls, setting holdem_round.is_called = True\n",
      "Round is called. Match or Fold to Bom\n",
      "Round is called. Match or Fold to Josh\n",
      "Called - Active Player: Josh\n",
      "Josh has a max bet of 100\n",
      "Play - Josh: MATCH\n",
      "handling action: Action(MATCH, 99)\n",
      "Processing Action - Josh: MATCH\n",
      "Josh: 1\n",
      "Action amount: 99\n",
      "Money on table: 99\n",
      "Cash into the pot: 0\n",
      "Cash into pot: 0\n",
      "Josh calling, raising, or matching by 99\n",
      "Josh still has: 1 in their bankroll\n",
      "Round is called. Match or Fold to Cody\n",
      "Round is called. Match or Fold to Beezie\n",
      "Betting round is complete\n",
      "Players still in: ['Josh', 'Madi', 'Sophia']\n",
      "Josh is holding [Card(\"K\", \"Diamonds\"), Card(\"5\", \"Spades\")]\n",
      "Josh makes a hand from: [Card(\"K\", \"Diamonds\"), Card(\"5\", \"Spades\"), Card(\"K\", \"Diamonds\"), Card(\"5\", \"Spades\"), Card(\"2\", \"Hearts\"), Card(\"3\", \"Hearts\"), Card(\"6\", \"Clubs\"), Card(\"6\", \"Spades\"), Card(\"9\", \"Hearts\")]\n",
      "Josh presents hand: KD, KD, 6C, 6S, 9H\n",
      "Madi is holding [Card(\"J\", \"Clubs\"), Card(\"3\", \"Clubs\")]\n",
      "Madi makes a hand from: [Card(\"J\", \"Clubs\"), Card(\"3\", \"Clubs\"), Card(\"J\", \"Clubs\"), Card(\"3\", \"Clubs\"), Card(\"2\", \"Hearts\"), Card(\"3\", \"Hearts\"), Card(\"6\", \"Clubs\"), Card(\"6\", \"Spades\"), Card(\"9\", \"Hearts\")]\n",
      "Madi presents hand: JC, 3C, JC, 3C, 3H\n",
      "Sophia is holding [Card(\"Q\", \"Spades\"), Card(\"A\", \"Hearts\")]\n",
      "Sophia makes a hand from: [Card(\"Q\", \"Spades\"), Card(\"A\", \"Hearts\"), Card(\"Q\", \"Spades\"), Card(\"A\", \"Hearts\"), Card(\"2\", \"Hearts\"), Card(\"3\", \"Hearts\"), Card(\"6\", \"Clubs\"), Card(\"6\", \"Spades\"), Card(\"9\", \"Hearts\")]\n",
      "Sophia presents hand: AH, AH, 2H, 3H, 9H\n",
      "Josh is holding [Card(\"K\", \"Diamonds\"), Card(\"5\", \"Spades\"), Card(\"K\", \"Diamonds\"), Card(\"5\", \"Spades\"), Card(\"2\", \"Hearts\"), Card(\"3\", \"Hearts\"), Card(\"6\", \"Clubs\"), Card(\"6\", \"Spades\"), Card(\"9\", \"Hearts\")]\n",
      "Josh presents hand: KD, KD, 6C, 6S, 9H\n",
      "Madi is holding [Card(\"J\", \"Clubs\"), Card(\"3\", \"Clubs\"), Card(\"J\", \"Clubs\"), Card(\"3\", \"Clubs\"), Card(\"2\", \"Hearts\"), Card(\"3\", \"Hearts\"), Card(\"6\", \"Clubs\"), Card(\"6\", \"Spades\"), Card(\"9\", \"Hearts\")]\n",
      "Madi presents hand: JC, 3C, JC, 3C, 3H\n",
      "Sophia is holding [Card(\"Q\", \"Spades\"), Card(\"A\", \"Hearts\"), Card(\"Q\", \"Spades\"), Card(\"A\", \"Hearts\"), Card(\"2\", \"Hearts\"), Card(\"3\", \"Hearts\"), Card(\"6\", \"Clubs\"), Card(\"6\", \"Spades\"), Card(\"9\", \"Hearts\")]\n",
      "Sophia presents hand: AH, AH, 2H, 3H, 9H\n",
      "Winning Hand: JC, 3C, JC, 3C, 3H\n",
      "('FULL_HOUSE', '3', 'J'): JC, 3C, JC, 3C, 3H\n",
      "['Madi']\n",
      "Flop: [Card(\"2\", \"Hearts\"), Card(\"3\", \"Hearts\"), Card(\"6\", \"Clubs\")]\n",
      "Turn: Card(\"6\", \"Spades\")\n",
      "River: Card(\"9\", \"Hearts\")\n",
      "Madi collects a $450.0 pot\n"
     ]
    }
   ],
   "source": [
    "players, table = HoldemRound(\n",
    "    players=players,\n",
    "    blind=1\n",
    ").play()"
   ]
  },
  {
   "cell_type": "code",
   "execution_count": 4,
   "id": "63ddab54",
   "metadata": {},
   "outputs": [
    {
     "name": "stdout",
     "output_type": "stream",
     "text": [
      "Player(Josh, 1)\n",
      "Player(Cody, 100)\n",
      "Player(Beezie, 29)\n",
      "Player(Madi, 451.0)\n",
      "Player(Alice, 100)\n",
      "Player(Michelle, 20)\n",
      "Player(Sophia, 1)\n",
      "Player(Bom, 98)\n"
     ]
    }
   ],
   "source": [
    "for player in players:\n",
    "    print(player)"
   ]
  },
  {
   "cell_type": "code",
   "execution_count": 5,
   "id": "5881227e",
   "metadata": {},
   "outputs": [
    {
     "data": {
      "text/plain": [
       "[Player(Josh, 1),\n",
       " Player(Cody, 100),\n",
       " Player(Beezie, 29),\n",
       " Player(Madi, 451.0),\n",
       " Player(Alice, 100),\n",
       " Player(Michelle, 20),\n",
       " Player(Sophia, 1),\n",
       " Player(Bom, 98)]"
      ]
     },
     "execution_count": 5,
     "metadata": {},
     "output_type": "execute_result"
    }
   ],
   "source": [
    "[player for player in players if player.bankroll > 0]"
   ]
  },
  {
   "cell_type": "code",
   "execution_count": 6,
   "id": "9f166593",
   "metadata": {},
   "outputs": [
    {
     "name": "stdout",
     "output_type": "stream",
     "text": [
      "Collecting blinds\n",
      "Josh is placing big blind: 2\n"
     ]
    },
    {
     "ename": "ValueError",
     "evalue": "Cannot add more (2) chips than Josh has in bankroll (1).",
     "output_type": "error",
     "traceback": [
      "\u001b[0;31m---------------------------------------------------------------------------\u001b[0m",
      "\u001b[0;31mValueError\u001b[0m                                Traceback (most recent call last)",
      "\u001b[0;32m/var/folders/jq/w80pdyz11zbbhbvz7p8795gh0000gn/T/ipykernel_45436/471628654.py\u001b[0m in \u001b[0;36m<module>\u001b[0;34m\u001b[0m\n\u001b[0;32m----> 1\u001b[0;31m players, table = HoldemRound(\n\u001b[0m\u001b[1;32m      2\u001b[0m     \u001b[0mplayers\u001b[0m\u001b[0;34m=\u001b[0m\u001b[0;34m[\u001b[0m\u001b[0mplayer\u001b[0m \u001b[0;32mfor\u001b[0m \u001b[0mplayer\u001b[0m \u001b[0;32min\u001b[0m \u001b[0mplayers\u001b[0m \u001b[0;32mif\u001b[0m \u001b[0mplayer\u001b[0m\u001b[0;34m.\u001b[0m\u001b[0mbankroll\u001b[0m \u001b[0;34m>\u001b[0m \u001b[0;36m0\u001b[0m\u001b[0;34m]\u001b[0m\u001b[0;34m,\u001b[0m\u001b[0;34m\u001b[0m\u001b[0;34m\u001b[0m\u001b[0m\n\u001b[1;32m      3\u001b[0m     \u001b[0mtable\u001b[0m\u001b[0;34m=\u001b[0m\u001b[0mtable\u001b[0m\u001b[0;34m\u001b[0m\u001b[0;34m\u001b[0m\u001b[0m\n\u001b[1;32m      4\u001b[0m ).play()\n",
      "\u001b[0;32m~/dev/cards/src/model/holdem_round.py\u001b[0m in \u001b[0;36mplay\u001b[0;34m(self)\u001b[0m\n\u001b[1;32m    259\u001b[0m         \u001b[0;32mfor\u001b[0m \u001b[0mplayer\u001b[0m \u001b[0;32min\u001b[0m \u001b[0mself\u001b[0m\u001b[0;34m.\u001b[0m\u001b[0mplayers\u001b[0m\u001b[0;34m:\u001b[0m\u001b[0;34m\u001b[0m\u001b[0;34m\u001b[0m\u001b[0m\n\u001b[1;32m    260\u001b[0m             \u001b[0mplayer\u001b[0m\u001b[0;34m.\u001b[0m\u001b[0mstart_holdem_round\u001b[0m\u001b[0;34m(\u001b[0m\u001b[0;34m)\u001b[0m\u001b[0;34m\u001b[0m\u001b[0;34m\u001b[0m\u001b[0m\n\u001b[0;32m--> 261\u001b[0;31m         \u001b[0mself\u001b[0m\u001b[0;34m.\u001b[0m\u001b[0mcollect_blinds\u001b[0m\u001b[0;34m(\u001b[0m\u001b[0;34m)\u001b[0m\u001b[0;34m\u001b[0m\u001b[0;34m\u001b[0m\u001b[0m\n\u001b[0m\u001b[1;32m    262\u001b[0m         \u001b[0mself\u001b[0m\u001b[0;34m.\u001b[0m\u001b[0mdeal\u001b[0m\u001b[0;34m(\u001b[0m\u001b[0;34m)\u001b[0m\u001b[0;34m\u001b[0m\u001b[0;34m\u001b[0m\u001b[0m\n\u001b[1;32m    263\u001b[0m         \u001b[0mself\u001b[0m\u001b[0;34m.\u001b[0m\u001b[0mdo_betting_round\u001b[0m\u001b[0;34m(\u001b[0m\u001b[0;34m)\u001b[0m\u001b[0;34m\u001b[0m\u001b[0;34m\u001b[0m\u001b[0m\n",
      "\u001b[0;32m~/dev/cards/src/model/holdem_round.py\u001b[0m in \u001b[0;36mcollect_blinds\u001b[0;34m(self)\u001b[0m\n\u001b[1;32m    253\u001b[0m     \u001b[0;32mdef\u001b[0m \u001b[0mcollect_blinds\u001b[0m\u001b[0;34m(\u001b[0m\u001b[0mself\u001b[0m\u001b[0;34m)\u001b[0m\u001b[0;34m:\u001b[0m\u001b[0;34m\u001b[0m\u001b[0;34m\u001b[0m\u001b[0m\n\u001b[1;32m    254\u001b[0m         \u001b[0mprint\u001b[0m\u001b[0;34m(\u001b[0m\u001b[0;34m\"Collecting blinds\"\u001b[0m\u001b[0;34m)\u001b[0m\u001b[0;34m\u001b[0m\u001b[0;34m\u001b[0m\u001b[0m\n\u001b[0;32m--> 255\u001b[0;31m         \u001b[0mself\u001b[0m\u001b[0;34m.\u001b[0m\u001b[0mtable\u001b[0m\u001b[0;34m.\u001b[0m\u001b[0mpot\u001b[0m\u001b[0;34m.\u001b[0m\u001b[0mappend\u001b[0m\u001b[0;34m(\u001b[0m\u001b[0mself\u001b[0m\u001b[0;34m.\u001b[0m\u001b[0mplayers\u001b[0m\u001b[0;34m[\u001b[0m\u001b[0mself\u001b[0m\u001b[0;34m.\u001b[0m\u001b[0mtable\u001b[0m\u001b[0;34m.\u001b[0m\u001b[0mbig_blind_index\u001b[0m\u001b[0;34m]\u001b[0m\u001b[0;34m.\u001b[0m\u001b[0mplace_big_blind\u001b[0m\u001b[0;34m(\u001b[0m\u001b[0mself\u001b[0m\u001b[0;34m.\u001b[0m\u001b[0mtable\u001b[0m\u001b[0;34m)\u001b[0m\u001b[0;34m)\u001b[0m\u001b[0;34m\u001b[0m\u001b[0;34m\u001b[0m\u001b[0m\n\u001b[0m\u001b[1;32m    256\u001b[0m         \u001b[0mself\u001b[0m\u001b[0;34m.\u001b[0m\u001b[0mtable\u001b[0m\u001b[0;34m.\u001b[0m\u001b[0mpot\u001b[0m\u001b[0;34m.\u001b[0m\u001b[0mappend\u001b[0m\u001b[0;34m(\u001b[0m\u001b[0mself\u001b[0m\u001b[0;34m.\u001b[0m\u001b[0mplayers\u001b[0m\u001b[0;34m[\u001b[0m\u001b[0mself\u001b[0m\u001b[0;34m.\u001b[0m\u001b[0mtable\u001b[0m\u001b[0;34m.\u001b[0m\u001b[0msmall_blind_index\u001b[0m\u001b[0;34m]\u001b[0m\u001b[0;34m.\u001b[0m\u001b[0mplace_small_blind\u001b[0m\u001b[0;34m(\u001b[0m\u001b[0mself\u001b[0m\u001b[0;34m.\u001b[0m\u001b[0mtable\u001b[0m\u001b[0;34m)\u001b[0m\u001b[0;34m)\u001b[0m\u001b[0;34m\u001b[0m\u001b[0;34m\u001b[0m\u001b[0m\n\u001b[1;32m    257\u001b[0m \u001b[0;34m\u001b[0m\u001b[0m\n",
      "\u001b[0;32m~/dev/cards/src/model/player.py\u001b[0m in \u001b[0;36mplace_big_blind\u001b[0;34m(self, table)\u001b[0m\n\u001b[1;32m     68\u001b[0m         \u001b[0mprint\u001b[0m\u001b[0;34m(\u001b[0m\u001b[0;34mf\"{self.name} is placing big blind: {table.big_blind}\"\u001b[0m\u001b[0;34m)\u001b[0m\u001b[0;34m\u001b[0m\u001b[0;34m\u001b[0m\u001b[0m\n\u001b[1;32m     69\u001b[0m         \u001b[0;31m# self._bankroll -= table.big_blind\u001b[0m\u001b[0;34m\u001b[0m\u001b[0;34m\u001b[0m\u001b[0m\n\u001b[0;32m---> 70\u001b[0;31m         \u001b[0mself\u001b[0m\u001b[0;34m.\u001b[0m\u001b[0madd_chips\u001b[0m\u001b[0;34m(\u001b[0m\u001b[0mtable\u001b[0m\u001b[0;34m.\u001b[0m\u001b[0mbig_blind\u001b[0m\u001b[0;34m)\u001b[0m\u001b[0;34m\u001b[0m\u001b[0;34m\u001b[0m\u001b[0m\n\u001b[0m\u001b[1;32m     71\u001b[0m         \u001b[0mprint\u001b[0m\u001b[0;34m(\u001b[0m\u001b[0;34mf\"{self.name} placed big blind: {self._bankroll} left in bankroll\"\u001b[0m\u001b[0;34m)\u001b[0m\u001b[0;34m\u001b[0m\u001b[0;34m\u001b[0m\u001b[0m\n\u001b[1;32m     72\u001b[0m         \u001b[0;32mreturn\u001b[0m \u001b[0mtable\u001b[0m\u001b[0;34m.\u001b[0m\u001b[0mbig_blind\u001b[0m\u001b[0;34m\u001b[0m\u001b[0;34m\u001b[0m\u001b[0m\n",
      "\u001b[0;32m~/dev/cards/src/model/player.py\u001b[0m in \u001b[0;36madd_chips\u001b[0;34m(self, amount)\u001b[0m\n\u001b[1;32m     48\u001b[0m     \u001b[0;32mdef\u001b[0m \u001b[0madd_chips\u001b[0m\u001b[0;34m(\u001b[0m\u001b[0mself\u001b[0m\u001b[0;34m,\u001b[0m \u001b[0mamount\u001b[0m\u001b[0;34m)\u001b[0m\u001b[0;34m:\u001b[0m\u001b[0;34m\u001b[0m\u001b[0;34m\u001b[0m\u001b[0m\n\u001b[1;32m     49\u001b[0m         \u001b[0;32mif\u001b[0m \u001b[0mamount\u001b[0m \u001b[0;34m>\u001b[0m \u001b[0mself\u001b[0m\u001b[0;34m.\u001b[0m\u001b[0mbankroll\u001b[0m\u001b[0;34m:\u001b[0m\u001b[0;34m\u001b[0m\u001b[0;34m\u001b[0m\u001b[0m\n\u001b[0;32m---> 50\u001b[0;31m             \u001b[0;32mraise\u001b[0m \u001b[0mValueError\u001b[0m\u001b[0;34m(\u001b[0m\u001b[0;34mf\"Cannot add more ({amount}) chips than {self.name} has in bankroll ({self.bankroll}).\"\u001b[0m\u001b[0;34m)\u001b[0m\u001b[0;34m\u001b[0m\u001b[0;34m\u001b[0m\u001b[0m\n\u001b[0m\u001b[1;32m     51\u001b[0m         \u001b[0mself\u001b[0m\u001b[0;34m.\u001b[0m\u001b[0mstatus\u001b[0m\u001b[0;34m.\u001b[0m\u001b[0madd_chips\u001b[0m\u001b[0;34m(\u001b[0m\u001b[0mamount\u001b[0m\u001b[0;34m)\u001b[0m\u001b[0;34m\u001b[0m\u001b[0;34m\u001b[0m\u001b[0m\n\u001b[1;32m     52\u001b[0m         \u001b[0mself\u001b[0m\u001b[0;34m.\u001b[0m\u001b[0m_bankroll\u001b[0m \u001b[0;34m-=\u001b[0m \u001b[0mamount\u001b[0m\u001b[0;34m\u001b[0m\u001b[0;34m\u001b[0m\u001b[0m\n",
      "\u001b[0;31mValueError\u001b[0m: Cannot add more (2) chips than Josh has in bankroll (1)."
     ]
    }
   ],
   "source": [
    "players, table = HoldemRound(\n",
    "    players=[player for player in players if player.bankroll > 0],\n",
    "    table=table\n",
    ").play()"
   ]
  },
  {
   "cell_type": "code",
   "execution_count": null,
   "id": "44b18912",
   "metadata": {},
   "outputs": [],
   "source": [
    "for player in players:\n",
    "    print(player)"
   ]
  },
  {
   "cell_type": "code",
   "execution_count": null,
   "id": "7ebe59bb",
   "metadata": {},
   "outputs": [],
   "source": [
    "players, table = HoldemRound(\n",
    "    players=[player for player in players if player.bankroll > 0],\n",
    "    table=table\n",
    ").play()"
   ]
  },
  {
   "cell_type": "code",
   "execution_count": null,
   "id": "53a1f733",
   "metadata": {},
   "outputs": [],
   "source": [
    "for player in players:\n",
    "    print(player)"
   ]
  },
  {
   "cell_type": "code",
   "execution_count": null,
   "id": "0837c3ad",
   "metadata": {},
   "outputs": [],
   "source": [
    "players, table = HoldemRound(\n",
    "    players=[player for player in players if player.bankroll > 0],\n",
    "    table=table\n",
    ").play()"
   ]
  },
  {
   "cell_type": "code",
   "execution_count": null,
   "id": "247b89fd",
   "metadata": {},
   "outputs": [],
   "source": [
    "for player in players:\n",
    "    print(player)"
   ]
  },
  {
   "cell_type": "code",
   "execution_count": null,
   "id": "f260e467",
   "metadata": {},
   "outputs": [],
   "source": [
    "players, table = HoldemRound(\n",
    "    players=[player for player in players if player.bankroll > 0],\n",
    "    table=table\n",
    ").play()"
   ]
  },
  {
   "cell_type": "code",
   "execution_count": null,
   "id": "a8885d0e",
   "metadata": {},
   "outputs": [],
   "source": [
    "players, table = HoldemRound(\n",
    "    players=[player for player in players if player.bankroll > table.big_blind],\n",
    "    table=table\n",
    ").play()"
   ]
  },
  {
   "cell_type": "code",
   "execution_count": null,
   "id": "824be193",
   "metadata": {},
   "outputs": [],
   "source": [
    "for player in players:\n",
    "    print(player)"
   ]
  },
  {
   "cell_type": "code",
   "execution_count": null,
   "id": "8ac022a6",
   "metadata": {},
   "outputs": [],
   "source": [
    "players, table = HoldemRound(\n",
    "    players=[player for player in players if player.bankroll > table.big_blind],\n",
    "    table=table\n",
    ").play()"
   ]
  },
  {
   "cell_type": "code",
   "execution_count": null,
   "id": "865e5e26",
   "metadata": {},
   "outputs": [],
   "source": [
    "for player in players:\n",
    "    print(player)"
   ]
  },
  {
   "cell_type": "code",
   "execution_count": null,
   "id": "f6362833",
   "metadata": {},
   "outputs": [],
   "source": [
    "players, table = HoldemRound(\n",
    "    players=[player for player in players if player.bankroll > table.big_blind],\n",
    "    table=table\n",
    ").play()"
   ]
  },
  {
   "cell_type": "code",
   "execution_count": null,
   "id": "1bef25f7",
   "metadata": {},
   "outputs": [],
   "source": [
    "for player in players:\n",
    "    print(player)"
   ]
  },
  {
   "cell_type": "code",
   "execution_count": null,
   "id": "a0751d5c",
   "metadata": {},
   "outputs": [],
   "source": [
    "players, table = HoldemRound(\n",
    "    players=[player for player in players if player.bankroll > table.big_blind],\n",
    "    table=table\n",
    ").play()"
   ]
  },
  {
   "cell_type": "code",
   "execution_count": null,
   "id": "101350a0",
   "metadata": {},
   "outputs": [],
   "source": [
    "for player in players:\n",
    "    print(player)"
   ]
  },
  {
   "cell_type": "code",
   "execution_count": null,
   "id": "5e43e617",
   "metadata": {},
   "outputs": [],
   "source": [
    "players, table = HoldemRound(\n",
    "    players=[player for player in players if player.bankroll > table.big_blind],\n",
    "    table=table\n",
    ").play()"
   ]
  },
  {
   "cell_type": "code",
   "execution_count": null,
   "id": "825a82f4",
   "metadata": {},
   "outputs": [],
   "source": [
    "for player in players:\n",
    "    print(player)"
   ]
  },
  {
   "cell_type": "code",
   "execution_count": null,
   "id": "25ef8dc0",
   "metadata": {},
   "outputs": [],
   "source": [
    "players, table = HoldemRound(\n",
    "    players=[player for player in players if player.bankroll > table.big_blind],\n",
    "    table=table\n",
    ").play()"
   ]
  },
  {
   "cell_type": "code",
   "execution_count": null,
   "id": "221681ba",
   "metadata": {},
   "outputs": [],
   "source": [
    "for player in players:\n",
    "    print(player)"
   ]
  },
  {
   "cell_type": "code",
   "execution_count": null,
   "id": "941c7540",
   "metadata": {},
   "outputs": [],
   "source": [
    "players, table = HoldemRound(\n",
    "    players=[player for player in players if player.bankroll > table.big_blind],\n",
    "    table=table\n",
    ").play()"
   ]
  },
  {
   "cell_type": "code",
   "execution_count": null,
   "id": "ede503cf",
   "metadata": {},
   "outputs": [],
   "source": [
    "for player in players:\n",
    "    print(player)"
   ]
  },
  {
   "cell_type": "code",
   "execution_count": null,
   "id": "fb06b1c4",
   "metadata": {},
   "outputs": [],
   "source": [
    "players, table = HoldemRound(\n",
    "    players=[player for player in players if player.bankroll > table.big_blind],\n",
    "    table=table\n",
    ").play()"
   ]
  },
  {
   "cell_type": "code",
   "execution_count": null,
   "id": "ae879cb3",
   "metadata": {},
   "outputs": [],
   "source": [
    "for player in players:\n",
    "    print(player)"
   ]
  },
  {
   "cell_type": "code",
   "execution_count": null,
   "id": "ac50b393",
   "metadata": {},
   "outputs": [],
   "source": [
    "players, table = HoldemRound(\n",
    "    players=[player for player in players if player.bankroll > table.big_blind],\n",
    "    table=table\n",
    ").play()"
   ]
  },
  {
   "cell_type": "code",
   "execution_count": null,
   "id": "0aefbce8",
   "metadata": {},
   "outputs": [],
   "source": [
    "for player in players:\n",
    "    print(player)"
   ]
  },
  {
   "cell_type": "code",
   "execution_count": null,
   "id": "c80fb705",
   "metadata": {},
   "outputs": [],
   "source": [
    "players, table = HoldemRound(\n",
    "    players=[player for player in players if player.bankroll > table.big_blind],\n",
    "    table=table\n",
    ").play()\n",
    "\n",
    "for player in players:\n",
    "    print(player)"
   ]
  },
  {
   "cell_type": "code",
   "execution_count": null,
   "id": "da77b7f2",
   "metadata": {},
   "outputs": [],
   "source": [
    "players, table = HoldemRound(\n",
    "    players=[player for player in players if player.bankroll > table.big_blind],\n",
    "    table=table\n",
    ").play()"
   ]
  },
  {
   "cell_type": "code",
   "execution_count": null,
   "id": "c6553a82",
   "metadata": {},
   "outputs": [],
   "source": [
    "for player in players:\n",
    "    print(player)"
   ]
  },
  {
   "cell_type": "code",
   "execution_count": null,
   "id": "63a1747b",
   "metadata": {},
   "outputs": [],
   "source": [
    "players, table = HoldemRound(\n",
    "    players=[player for player in players if player.bankroll > table.big_blind],\n",
    "    table=table\n",
    ").play()"
   ]
  },
  {
   "cell_type": "code",
   "execution_count": null,
   "id": "0340ee73",
   "metadata": {},
   "outputs": [],
   "source": [
    "players, table = HoldemRound(\n",
    "    players=[player for player in players if player.bankroll > table.big_blind],\n",
    "    table=table\n",
    ").play()"
   ]
  },
  {
   "cell_type": "code",
   "execution_count": null,
   "id": "38d36a83",
   "metadata": {},
   "outputs": [],
   "source": [
    "for player in players:\n",
    "    print(player)"
   ]
  },
  {
   "cell_type": "code",
   "execution_count": null,
   "id": "2a5ae32f",
   "metadata": {},
   "outputs": [],
   "source": [
    "players, table = HoldemRound(\n",
    "    players=[player for player in players if player.bankroll > table.big_blind],\n",
    "    table=table\n",
    ").play()\n",
    "\n",
    "players, table = HoldemRound(\n",
    "    players=[player for player in players if player.bankroll > table.big_blind],\n",
    "    table=table\n",
    ").play()\n",
    "\n",
    "players, table = HoldemRound(\n",
    "    players=[player for player in players if player.bankroll > table.big_blind],\n",
    "    table=table\n",
    ").play()\n",
    "\n",
    "players, table = HoldemRound(\n",
    "    players=[player for player in players if player.bankroll > table.big_blind],\n",
    "    table=table\n",
    ").play()"
   ]
  },
  {
   "cell_type": "code",
   "execution_count": null,
   "id": "d3ddb168",
   "metadata": {},
   "outputs": [],
   "source": [
    "for player in players:\n",
    "    print(player)"
   ]
  },
  {
   "cell_type": "code",
   "execution_count": null,
   "id": "2eae3bcc",
   "metadata": {},
   "outputs": [],
   "source": [
    "players, table = HoldemRound(\n",
    "    players=[player for player in players if player.bankroll > table.big_blind],\n",
    "    table=table\n",
    ").play()\n",
    "\n",
    "players, table = HoldemRound(\n",
    "    players=[player for player in players if player.bankroll > table.big_blind],\n",
    "    table=table\n",
    ").play()\n",
    "\n",
    "players, table = HoldemRound(\n",
    "    players=[player for player in players if player.bankroll > table.big_blind],\n",
    "    table=table\n",
    ").play()\n",
    "\n",
    "players, table = HoldemRound(\n",
    "    players=[player for player in players if player.bankroll > table.big_blind],\n",
    "    table=table\n",
    ").play()"
   ]
  },
  {
   "cell_type": "code",
   "execution_count": null,
   "id": "6d43b9a1",
   "metadata": {},
   "outputs": [],
   "source": [
    "for player in players:\n",
    "    print(player)"
   ]
  },
  {
   "cell_type": "code",
   "execution_count": null,
   "id": "7b02c945",
   "metadata": {},
   "outputs": [],
   "source": []
  }
 ],
 "metadata": {
  "kernelspec": {
   "display_name": "Python 3 (ipykernel)",
   "language": "python",
   "name": "python3"
  },
  "language_info": {
   "codemirror_mode": {
    "name": "ipython",
    "version": 3
   },
   "file_extension": ".py",
   "mimetype": "text/x-python",
   "name": "python",
   "nbconvert_exporter": "python",
   "pygments_lexer": "ipython3",
   "version": "3.9.16"
  }
 },
 "nbformat": 4,
 "nbformat_minor": 5
}
